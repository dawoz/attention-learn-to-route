{
 "cells": [
  {
   "cell_type": "code",
   "execution_count": 1,
   "metadata": {},
   "outputs": [],
   "source": [
    "import torch\n",
    "import torch.nn.functional as F\n",
    "import torch.nn as nn"
   ]
  },
  {
   "cell_type": "code",
   "execution_count": 2,
   "metadata": {},
   "outputs": [],
   "source": [
    "x = torch.tensor([\n",
    "    [0,0],\n",
    "    [0,1],\n",
    "    [1,1]\n",
    "])"
   ]
  },
  {
   "cell_type": "code",
   "execution_count": 3,
   "metadata": {},
   "outputs": [],
   "source": [
    "def method1(x):\n",
    "    xx = F.pdist(x)\n",
    "    m = torch.zeros((x.shape[0],x.shape[0]))\n",
    "    triu_indices = torch.triu_indices(row=x.shape[0], col=x.shape[0], offset=1)\n",
    "    m[triu_indices[0], triu_indices[1]] = xx\n",
    "    m[triu_indices[1], triu_indices[0]] = xx\n",
    "    return m\n",
    "\n",
    "def method2(x):\n",
    "    return torch.norm(x[:, None] - x, dim=2, p=2)\n",
    "\n",
    "# def method1(x):\n",
    "#     xx = F.pdist(x)\n",
    "#     m = torch.zeros((x.shape[0],x.shape[0]))\n",
    "#     triu_indices = torch.triu_indices(row=x.shape[0], col=x.shape[0], offset=1)\n",
    "#     m[triu_indices[0], triu_indices[1]] = xx\n",
    "#     return (m + m.T).sort(dim=1)"
   ]
  },
  {
   "cell_type": "code",
   "execution_count": 4,
   "metadata": {},
   "outputs": [],
   "source": [
    "x = torch.rand((100,2))"
   ]
  },
  {
   "cell_type": "code",
   "execution_count": 5,
   "metadata": {},
   "outputs": [
    {
     "name": "stdout",
     "output_type": "stream",
     "text": [
      "115 µs ± 2.95 µs per loop (mean ± std. dev. of 7 runs, 10,000 loops each)\n"
     ]
    }
   ],
   "source": [
    "%timeit method1(x)\n"
   ]
  },
  {
   "cell_type": "code",
   "execution_count": 6,
   "metadata": {},
   "outputs": [
    {
     "name": "stdout",
     "output_type": "stream",
     "text": [
      "1.74 ms ± 412 ns per loop (mean ± std. dev. of 7 runs, 1,000 loops each)\n"
     ]
    }
   ],
   "source": [
    "%timeit method2(x)"
   ]
  },
  {
   "cell_type": "code",
   "execution_count": 7,
   "metadata": {},
   "outputs": [
    {
     "data": {
      "text/plain": [
       "tensor(0.)"
      ]
     },
     "execution_count": 7,
     "metadata": {},
     "output_type": "execute_result"
    }
   ],
   "source": [
    "torch.norm(method1(x)[:,:] - method2(x)[:,:])"
   ]
  },
  {
   "cell_type": "code",
   "execution_count": 8,
   "metadata": {},
   "outputs": [
    {
     "name": "stdout",
     "output_type": "stream",
     "text": [
      "12800\n",
      "12928\n"
     ]
    }
   ],
   "source": [
    "model = nn.Embedding(100,128)\n",
    "\n",
    "print(sum(t.numel() for t in model.parameters() if t.requires_grad))\n",
    "\n",
    "model = nn.Linear(100,128)\n",
    "\n",
    "print(sum(t.numel() for t in model.parameters() if t.requires_grad))"
   ]
  }
 ],
 "metadata": {
  "kernelspec": {
   "display_name": "Python 3.10.4 ('rlco')",
   "language": "python",
   "name": "python3"
  },
  "language_info": {
   "codemirror_mode": {
    "name": "ipython",
    "version": 3
   },
   "file_extension": ".py",
   "mimetype": "text/x-python",
   "name": "python",
   "nbconvert_exporter": "python",
   "pygments_lexer": "ipython3",
   "version": "3.10.4"
  },
  "orig_nbformat": 4,
  "vscode": {
   "interpreter": {
    "hash": "fbc9000f90c12489a36d9d8e6e2d2a257d4ed90ddf3093758a4941a3c1d11c86"
   }
  }
 },
 "nbformat": 4,
 "nbformat_minor": 2
}
