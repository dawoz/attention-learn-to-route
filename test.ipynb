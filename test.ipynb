{
 "cells": [
  {
   "cell_type": "code",
   "execution_count": 13,
   "metadata": {},
   "outputs": [],
   "source": [
    "import torch\n",
    "import torch.nn.functional as F\n",
    "import torch.nn as nn"
   ]
  },
  {
   "cell_type": "code",
   "execution_count": 14,
   "metadata": {},
   "outputs": [
    {
     "name": "stdout",
     "output_type": "stream",
     "text": [
      "tensor([[0., 0.],\n",
      "        [0., 1.],\n",
      "        [1., 1.]])\n",
      "tensor([[[0., 0.],\n",
      "         [0., 1.],\n",
      "         [1., 1.]]])\n"
     ]
    }
   ],
   "source": [
    "x = torch.tensor([\n",
    "    [0.,0],\n",
    "    [0,1],\n",
    "    [1,1]\n",
    "])\n",
    "print(x)\n",
    "print(x[None,:,:])"
   ]
  },
  {
   "cell_type": "code",
   "execution_count": 15,
   "metadata": {},
   "outputs": [],
   "source": [
    "def method1(x):\n",
    "    xx = F.pdist(x)\n",
    "    m = torch.zeros((x.shape[0],x.shape[0]))\n",
    "    triu_indices = torch.triu_indices(row=x.shape[0], col=x.shape[0], offset=1)\n",
    "    m[triu_indices[0], triu_indices[1]] = xx\n",
    "    m[triu_indices[1], triu_indices[0]] = xx\n",
    "    return m\n",
    "\n",
    "\n",
    "def method2(x):\n",
    "    return torch.norm(x[:, None] - x, dim=2, p=2)\n",
    "\n",
    "\n",
    "def method3(x):\n",
    "    return (x[:, :, None, :] - x[:, None, :, :]).norm(p=2, dim=-1)"
   ]
  },
  {
   "cell_type": "code",
   "execution_count": 16,
   "metadata": {},
   "outputs": [],
   "source": [
    "x = torch.rand((100,2))"
   ]
  },
  {
   "cell_type": "code",
   "execution_count": 17,
   "metadata": {},
   "outputs": [
    {
     "name": "stdout",
     "output_type": "stream",
     "text": [
      "107 µs ± 1.44 µs per loop (mean ± std. dev. of 7 runs, 10,000 loops each)\n"
     ]
    }
   ],
   "source": [
    "%timeit method1(x)\n"
   ]
  },
  {
   "cell_type": "code",
   "execution_count": 18,
   "metadata": {},
   "outputs": [
    {
     "name": "stdout",
     "output_type": "stream",
     "text": [
      "1.74 ms ± 3.73 µs per loop (mean ± std. dev. of 7 runs, 1,000 loops each)\n"
     ]
    }
   ],
   "source": [
    "%timeit method2(x)"
   ]
  },
  {
   "cell_type": "code",
   "execution_count": 19,
   "metadata": {},
   "outputs": [
    {
     "name": "stdout",
     "output_type": "stream",
     "text": [
      "1.75 ms ± 4.07 µs per loop (mean ± std. dev. of 7 runs, 1,000 loops each)\n"
     ]
    }
   ],
   "source": [
    "%timeit method3(x[None,:,:])"
   ]
  },
  {
   "cell_type": "code",
   "execution_count": 21,
   "metadata": {},
   "outputs": [
    {
     "name": "stdout",
     "output_type": "stream",
     "text": [
      "tensor(0.)\n",
      "tensor(0.)\n",
      "tensor(0.)\n"
     ]
    }
   ],
   "source": [
    "print(torch.norm(method1(x)[:,:] - method2(x)[:,:]))\n",
    "print(torch.norm(method1(x)[:,:] - method3(x[None,:,:])[:,:]))\n",
    "print(torch.norm(method2(x)[:,:] - method3(x[None,:,:])[:,:]))"
   ]
  },
  {
   "cell_type": "code",
   "execution_count": null,
   "metadata": {},
   "outputs": [
    {
     "name": "stdout",
     "output_type": "stream",
     "text": [
      "12800\n",
      "12928\n"
     ]
    }
   ],
   "source": [
    "model = nn.Embedding(100,128)\n",
    "\n",
    "print(sum(t.numel() for t in model.parameters() if t.requires_grad))\n",
    "\n",
    "model = nn.Linear(100,128)\n",
    "\n",
    "print(sum(t.numel() for t in model.parameters() if t.requires_grad))"
   ]
  },
  {
   "cell_type": "code",
   "execution_count": null,
   "metadata": {},
   "outputs": [],
   "source": [
    "pi = torch.tensor([\n",
    "    [0,2,1],\n",
    "    [2,1,0]\n",
    "])\n",
    "# dataset = torch.tensor([\n",
    "#     [\n",
    "#         [1,1.],\n",
    "#         [2,2],\n",
    "#         [3,3]\n",
    "#     ],\n",
    "#     [\n",
    "#         [-1,-1],\n",
    "#         [-2,-2],\n",
    "#         [-3,-3]\n",
    "#     ]\n",
    "# ])\n",
    "\n",
    "for _ in range(10000):\n",
    "    dataset = torch.rand((2,3,2))\n",
    "    d = dataset.gather(1, pi.unsqueeze(-1).expand_as(dataset))\n",
    "    res = (d[:, 1:] - d[:, :-1]).norm(p=2, dim=2).sum(1) + (d[:, 0] - d[:, -1]).norm(p=2, dim=1)\n",
    "\n",
    "    # metodo con distanze\n",
    "    dataset_dist = torch.stack(tuple(method1(d) for d in dataset),0)\n",
    "    a = torch.arange(pi.shape[1])\n",
    "    idx = torch.stack((a, a.roll(-1,0)))\n",
    "    res_dist = dataset_dist[:,idx[0],idx[1]].sum(1)\n",
    "\n",
    "    assert torch.norm(res - res_dist) <= 1e-6, f'{res} {res_dist}'"
   ]
  },
  {
   "cell_type": "code",
   "execution_count": 27,
   "metadata": {},
   "outputs": [
    {
     "name": "stdout",
     "output_type": "stream",
     "text": [
      "torch.Size([2, 1, 4, 2]) tensor([[[[1, 1],\n",
      "          [2, 2],\n",
      "          [3, 3],\n",
      "          [4, 4]]],\n",
      "\n",
      "\n",
      "        [[[5, 5],\n",
      "          [6, 6],\n",
      "          [7, 7],\n",
      "          [8, 8]]]])\n",
      "torch.Size([2, 4, 1, 2]) tensor([[[[1, 1]],\n",
      "\n",
      "         [[2, 2]],\n",
      "\n",
      "         [[3, 3]],\n",
      "\n",
      "         [[4, 4]]],\n",
      "\n",
      "\n",
      "        [[[5, 5]],\n",
      "\n",
      "         [[6, 6]],\n",
      "\n",
      "         [[7, 7]],\n",
      "\n",
      "         [[8, 8]]]])\n"
     ]
    }
   ],
   "source": [
    "x = torch.tensor([\n",
    "    [[1,1],[2,2],[3,3],[4,4]],\n",
    "    [[5,5],[6,6],[7,7],[8,8]]])\n",
    "print(x[:,None,:,:].shape,x[:,None,:,:])\n",
    "print(x[:,:,None,:].shape, x[:,:,None,:])"
   ]
  }
 ],
 "metadata": {
  "kernelspec": {
   "display_name": "Python 3.10.4 ('rlco')",
   "language": "python",
   "name": "python3"
  },
  "language_info": {
   "codemirror_mode": {
    "name": "ipython",
    "version": 3
   },
   "file_extension": ".py",
   "mimetype": "text/x-python",
   "name": "python",
   "nbconvert_exporter": "python",
   "pygments_lexer": "ipython3",
   "version": "3.10.4"
  },
  "orig_nbformat": 4,
  "vscode": {
   "interpreter": {
    "hash": "fbc9000f90c12489a36d9d8e6e2d2a257d4ed90ddf3093758a4941a3c1d11c86"
   }
  }
 },
 "nbformat": 4,
 "nbformat_minor": 2
}
